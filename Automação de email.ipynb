{
  "nbformat": 4,
  "nbformat_minor": 0,
  "metadata": {
    "colab": {
      "name": "Untitled6.ipynb",
      "provenance": [],
      "authorship_tag": "ABX9TyNPcm9dIlB4Z7pTrfvIKQd2",
      "include_colab_link": true
    },
    "kernelspec": {
      "name": "python3",
      "display_name": "Python 3"
    },
    "language_info": {
      "name": "python"
    }
  },
  "cells": [
    {
      "cell_type": "markdown",
      "metadata": {
        "id": "view-in-github",
        "colab_type": "text"
      },
      "source": [
        "<a href=\"https://colab.research.google.com/github/Miguelzan/Proejto-Auto-de-E-mail/blob/main/Automa%C3%A7%C3%A3o%20de%20email.ipynb\" target=\"_parent\"><img src=\"https://colab.research.google.com/assets/colab-badge.svg\" alt=\"Open In Colab\"/></a>"
      ]
    },
    {
      "cell_type": "code",
      "execution_count": null,
      "metadata": {
        "id": "mT0YEQewRbUk"
      },
      "outputs": [],
      "source": [
        "!pip install pyautogui\n",
        "!pip install pyperclip"
      ]
    },
    {
      "cell_type": "code",
      "source": [
        "#Automação de E-mail\n",
        "\n",
        "import pyautogui\n",
        "import pyperclip\n",
        "import time\n",
        "\n",
        "pyautogui.PAUSE = 1\n",
        "\n",
        "# Passo 1 - Entrar no google\n",
        "\n",
        "pyautogui.press('Win')\n",
        "pyautogui.copy('Google Chrome')\n",
        "pyautogui.press('enter')\n",
        "\n",
        "# Passo 2 - Entrar no e-mail\n",
        "\n",
        "pyautogui.click()\n",
        "time.sleep(3)"
      ],
      "metadata": {
        "id": "-bprvC86SC0X"
      },
      "execution_count": null,
      "outputs": []
    },
    {
      "cell_type": "code",
      "source": [
        "# Verifica posição do objeto na tela\n",
        "pyautogui.position()\n",
        "time.sleep(5)"
      ],
      "metadata": {
        "id": "Q6SLp54vTRJx"
      },
      "execution_count": null,
      "outputs": []
    }
  ]
}